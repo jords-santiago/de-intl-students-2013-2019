{
 "cells": [
  {
   "cell_type": "code",
   "execution_count": null,
   "metadata": {
    "editable": true
   },
   "outputs": [],
   "source": [
    "import sys\n",
    "from awsglue.transforms import *\n",
    "from awsglue.utils import getResolvedOptions\n",
    "from pyspark.context import SparkContext\n",
    "from awsglue.context import GlueContext\n",
    "from awsglue.job import Job\n",
    "  \n",
    "sc = SparkContext.getOrCreate()\n",
    "glueContext = GlueContext(sc)\n",
    "spark = glueContext.spark_session\n",
    "job = Job(glueContext)"
   ]
  },
  {
   "cell_type": "code",
   "execution_count": null,
   "metadata": {
    "tags": []
   },
   "outputs": [],
   "source": [
    "from pyspark.sql.functions import *\n",
    "from pyspark.sql.types import *\n",
    "from awsglue.dynamicframe import DynamicFrame"
   ]
  },
  {
   "cell_type": "code",
   "execution_count": null,
   "metadata": {
    "editable": true
   },
   "outputs": [],
   "source": [
    "oecd_dyf = glueContext.create_dynamic_frame.from_catalog(database='intl_students_raw', table_name='oecd')\n",
    "oecd_res_dyf = oecd_dyf.resolveChoice(specs = [('value','cast:long')])\n",
    "oecd_df = oecd_res_dyf.toDF()"
   ]
  },
  {
   "cell_type": "code",
   "execution_count": null,
   "metadata": {
    "editable": true
   },
   "outputs": [],
   "source": [
    "wb_wdi_dyf = glueContext.create_dynamic_frame.from_catalog(database='intl_students_raw', table_name='worldbank')\n",
    "wb_wdi_df = wb_wdi_dyf.toDF()"
   ]
  },
  {
   "cell_type": "code",
   "execution_count": null,
   "metadata": {
    "tags": []
   },
   "outputs": [],
   "source": [
    "iso_cc_dyf = glueContext.create_dynamic_frame.from_catalog(database='intl_students_raw', table_name='iso3166')\n",
    "iso_cc_df = iso_cc_dyf.toDF()"
   ]
  },
  {
   "cell_type": "code",
   "execution_count": null,
   "metadata": {
    "tags": []
   },
   "outputs": [],
   "source": [
    "# only include records gender of male and female then remove \n",
    "oecd_df = oecd_df.filter(oecd_df['SEX'] == '_T')\n",
    "oecd_df = oecd_df.drop('SEX','Flag Codes')"
   ]
  },
  {
   "cell_type": "code",
   "execution_count": null,
   "metadata": {
    "tags": []
   },
   "outputs": [],
   "source": [
    "# inlcude only data from 2013 to 2019\n",
    "oecd_df = oecd_df.withColumn('YEAR',col('YEAR').cast(IntegerType()))\n",
    "oecd_df = oecd_df.filter((oecd_df['YEAR'] >= 2013) & (oecd_df['YEAR'] <= 2019))"
   ]
  },
  {
   "cell_type": "code",
   "execution_count": null,
   "metadata": {
    "tags": []
   },
   "outputs": [],
   "source": [
    "# inlcude only records where country codes are found in ISO3166\n",
    "country_2_code_list = list(iso_cc_df.select(iso_cc_df['DIGIT_CODE_TWO']).toPandas()['DIGIT_CODE_TWO'])\n",
    "country_3_code_list = list(iso_cc_df.select(iso_cc_df['DIGIT_CODE_THREE']).toPandas()['DIGIT_CODE_THREE'])\n",
    "oecd_df = oecd_df.filter(oecd_df['ORIGIN'].isin(country_2_code_list))\n",
    "oecd_df = oecd_df.filter(oecd_df['COUNTRY'].isin(country_3_code_list))"
   ]
  },
  {
   "cell_type": "code",
   "execution_count": null,
   "metadata": {
    "tags": []
   },
   "outputs": [],
   "source": [
    "# exclude education levels ISCED11_54 and ISCED11_54\n",
    "oecd_df = oecd_df.filter((oecd_df['EDUCATION_LEV'] != 'ISCED11_54') & (oecd_df['EDUCATION_LEV'] != 'ISCED11_55'))"
   ]
  },
  {
   "cell_type": "code",
   "execution_count": null,
   "metadata": {
    "tags": []
   },
   "outputs": [],
   "source": [
    "oecd_df = oecd_df.withColumnRenamed('COUNTRY','COUNTRY_CODE').withColumnRenamed('ORIGIN','ORIGIN_CODE')"
   ]
  },
  {
   "cell_type": "code",
   "execution_count": null,
   "metadata": {
    "tags": []
   },
   "outputs": [],
   "source": [
    "# create dataframe that will be table OECD_EDU_ENRL_2013_2019\n",
    "merge_df = oecd_df.join(iso_cc_df, oecd_df['COUNTRY_CODE'] == iso_cc_df['DIGIT_CODE_THREE'], 'left') \\\n",
    "    .select('COUNTRY','ORIGIN_CODE','EDUCATION_LEV','YEAR','Value').withColumnRenamed('COUNTRY','COUNTRY_OF_SCHOOL')"
   ]
  },
  {
   "cell_type": "code",
   "execution_count": null,
   "metadata": {
    "tags": []
   },
   "outputs": [],
   "source": [
    "oecd_enrl_df = merge_df.join(iso_cc_df,  merge_df['ORIGIN_CODE'] == iso_cc_df['DIGIT_CODE_TWO'], 'left') \\\n",
    "    .select('COUNTRY_OF_SCHOOL','COUNTRY','EDUCATION_LEV','YEAR','Value').withColumnRenamed('COUNTRY','COUNTRY_OF_ORIGIN') \\\n",
    "    .withColumnRenamed('EDUCATION_LEV','EDUCATION_LEVEL').withColumnRenamed('Value','NUM_OF_STUDENTS')"
   ]
  },
  {
   "cell_type": "code",
   "execution_count": null,
   "metadata": {
    "tags": []
   },
   "outputs": [],
   "source": [
    "oecd_enrl_df = oecd_enrl_df.groupBy('COUNTRY_OF_SCHOOL','COUNTRY_OF_ORIGIN', 'YEAR').sum('NUM_OF_STUDENTS') \\\n",
    "    .withColumnRenamed('sum(NUM_OF_STUDENTS)','TOTAL_INTL_STUDENTS')"
   ]
  },
  {
   "cell_type": "code",
   "execution_count": null,
   "metadata": {
    "tags": []
   },
   "outputs": [],
   "source": [
    "# create dataframe that will be table INTL_STUDENT_ORIGIN_2013_2019\n",
    "intl_student_origin_df = merge_df.join(iso_cc_df,  merge_df['ORIGIN_CODE'] == iso_cc_df['DIGIT_CODE_TWO'], 'left') \\\n",
    "    .select('COUNTRY_OF_SCHOOL','COUNTRY','DIGIT_CODE_THREE','EDUCATION_LEV','YEAR','Value').withColumnRenamed('COUNTRY','COUNTRY_OF_ORIGIN') \\\n",
    "    .withColumnRenamed('DIGIT_CODE_THREE','ORIGIN_COUNTRY_CODE').withColumnRenamed('EDUCATION_LEV','EDUCATION_LEVEL') \\\n",
    "    .withColumnRenamed('Value','NUM_OF_STUDENTS')"
   ]
  },
  {
   "cell_type": "code",
   "execution_count": null,
   "metadata": {
    "tags": []
   },
   "outputs": [],
   "source": [
    "intl_student_origin_df = intl_student_origin_df.groupBy('COUNTRY_OF_ORIGIN','ORIGIN_COUNTRY_CODE','YEAR').sum('NUM_OF_STUDENTS') \\\n",
    "    .withColumnRenamed('sum(NUM_OF_STUDENTS)','TOTAL_INTL_STUDENTS')"
   ]
  },
  {
   "cell_type": "code",
   "execution_count": null,
   "metadata": {
    "tags": []
   },
   "outputs": [],
   "source": [
    "# create dataframe that will be table INTL_STUDENTS_PER_POPULATION\n",
    "wdi_pop_df = wb_wdi_df.filter(wb_wdi_df['SERIES_CODE'] == 'SP.POP.TOTL').withColumnRenamed('YEAR','POP_YEAR')"
   ]
  },
  {
   "cell_type": "code",
   "execution_count": null,
   "metadata": {
    "tags": []
   },
   "outputs": [],
   "source": [
    "intl_student_per_pop_df = intl_student_origin_df.join(wdi_pop_df, \\\n",
    "                                                      (intl_student_origin_df['ORIGIN_COUNTRY_CODE'] == wdi_pop_df['COUNTRY_CODE']) & (intl_student_origin_df['YEAR'] == wdi_pop_df['POP_YEAR']),'inner')"
   ]
  },
  {
   "cell_type": "code",
   "execution_count": null,
   "metadata": {
    "tags": []
   },
   "outputs": [],
   "source": [
    "intl_student_per_pop_df = intl_student_per_pop_df.select('COUNTRY_OF_ORIGIN','ORIGIN_COUNTRY_CODE','YEAR','TOTAL_INTL_STUDENTS','VALUE')\n",
    "intl_student_per_pop_df = intl_student_per_pop_df.withColumn('Value',col('Value').cast(LongType()))\n",
    "intl_student_per_pop_df = intl_student_per_pop_df.withColumnRenamed('Value','POPULATION')\n",
    "intl_student_per_pop_df = intl_student_per_pop_df.filter(intl_student_per_pop_df['POPULATION'] != 0)\n",
    "intl_student_per_pop_df = intl_student_per_pop_df.withColumn('POPULATION',col('POPULATION').cast(DoubleType())) \\\n",
    "    .withColumn('TOTAL_INTL_STUDENTS',col('TOTAL_INTL_STUDENTS').cast(DoubleType()))\n",
    "intl_student_per_pop_df = intl_student_per_pop_df.withColumn('PERCENT_INTL_STUDENTS_PER_POPULATION',col('TOTAL_INTL_STUDENTS')/col('POPULATION')*100)\n",
    "intl_student_per_pop_df = intl_student_per_pop_df.drop('ORIGIN_COUNTRY_CODE')"
   ]
  },
  {
   "cell_type": "code",
   "execution_count": null,
   "metadata": {},
   "outputs": [],
   "source": [
    "oecd_enrl_dy_df = DynamicFrame.fromDF(oecd_enrl_df, glueContext, 'oecd_enrl_dy_df')"
   ]
  },
  {
   "cell_type": "code",
   "execution_count": null,
   "metadata": {},
   "outputs": [],
   "source": [
    "intl_student_per_pop_dy_df = DynamicFrame.fromDF(intl_student_per_pop_df, glueContext, 'intl_student_per_pop_dy_df')"
   ]
  },
  {
   "cell_type": "code",
   "execution_count": null,
   "metadata": {},
   "outputs": [],
   "source": [
    "intl_student_origin_dy_df = DynamicFrame.fromDF(intl_student_origin_df, glueContext, 'intl_student_origin_dy_df')"
   ]
  },
  {
   "cell_type": "code",
   "execution_count": null,
   "metadata": {},
   "outputs": [],
   "source": [
    "import redshift_connector\n",
    "\n",
    "# Connects to Redshift cluster using AWS credentials\n",
    "conn = redshift_connector.connect(\n",
    "    host='******************************',\n",
    "    database='******************',\n",
    "    user='********************',\n",
    "    password='***************',\n",
    "    is_serverless=True,\n",
    "    serverless_acct_id=***************,\n",
    "    serverless_work_group='******************'\n",
    " )\n",
    "\n",
    "cursor: redshift_connector.Cursor = conn.cursor()"
   ]
  },
  {
   "cell_type": "code",
   "execution_count": null,
   "metadata": {
    "tags": []
   },
   "outputs": [],
   "source": [
    "conn.rollback()\n",
    "conn.autocommit = True"
   ]
  },
  {
   "cell_type": "code",
   "execution_count": null,
   "metadata": {},
   "outputs": [],
   "source": [
    "cursor.execute('''\n",
    "CREATE TABLE IF NOT EXISTS public.OECD_EDU_ENRL_2013_2019 (\n",
    "  \"COUNTRY_OF_SCHOOL\" TEXT,\n",
    "  \"COUNTRY_OF_ORIGIN\" TEXT,\n",
    "  \"YEAR\" INTEGER,\n",
    "  \"TOTAL_INTL_STUDENTS\" BIGINT\n",
    ")\n",
    "''')"
   ]
  },
  {
   "cell_type": "code",
   "execution_count": null,
   "metadata": {
    "tags": []
   },
   "outputs": [],
   "source": [
    "my_conn_options = {\n",
    "    \"dbtable\": \"public.OECD_EDU_ENRL_2013_2019\",\n",
    "    \"database\": \"dev\"\n",
    "}"
   ]
  },
  {
   "cell_type": "code",
   "execution_count": null,
   "metadata": {
    "tags": []
   },
   "outputs": [],
   "source": [
    "rds_res = glueContext.write_dynamic_frame.from_jdbc_conf(\n",
    "    frame = oecd_enrl_dy_df,\n",
    "    catalog_connection = \"*******************\",\n",
    "    connection_options = my_conn_options,\n",
    "    redshift_tmp_dir = \"********************\"\n",
    ")"
   ]
  },
  {
   "cell_type": "code",
   "execution_count": null,
   "metadata": {},
   "outputs": [],
   "source": [
    "cursor.execute('''\n",
    "CREATE TABLE IF NOT EXISTS public.INTL_STUDENTS_PER_POPULATION (\n",
    "  \"COUNTRY_OF_ORIGIN\" TEXT,\n",
    "  \"YEAR\" INTEGER,\n",
    "  \"TOTAL_INTL_STUDENTS\" REAL,\n",
    "  \"POPULATION\" REAL,\n",
    "  \"PERCENT_INTL_STUDENTS_PER_POPULATION\" REAL\n",
    ")\n",
    "''')"
   ]
  },
  {
   "cell_type": "code",
   "execution_count": null,
   "metadata": {},
   "outputs": [],
   "source": [
    "my_conn_options = {\n",
    "    \"dbtable\": \"public.INTL_STUDENTS_PER_POPULATION\",\n",
    "    \"database\": \"dev\"\n",
    "}"
   ]
  },
  {
   "cell_type": "code",
   "execution_count": null,
   "metadata": {},
   "outputs": [],
   "source": [
    "rds_res = glueContext.write_dynamic_frame.from_jdbc_conf(\n",
    "    frame = intl_student_per_pop_dy_df,\n",
    "    catalog_connection = \"******************\",\n",
    "    connection_options = my_conn_options,\n",
    "    redshift_tmp_dir = \"*******************\"\n",
    ")"
   ]
  },
  {
   "cell_type": "code",
   "execution_count": null,
   "metadata": {},
   "outputs": [],
   "source": [
    "cursor.execute('''\n",
    "CREATE TABLE IF NOT EXISTS public.INTL_STUDENT_ORIGIN_2013_2019 (\n",
    "  \"COUNTRY_OF_ORIGIN\" TEXT,\n",
    "  \"ORIGIN_COUNTRY_CODE\" TEXT,\n",
    "  \"YEAR\" INTEGER,\n",
    "  \"TOTAL_INTL_STUDENTS\" BIGINT\n",
    ")\n",
    "''')"
   ]
  },
  {
   "cell_type": "code",
   "execution_count": null,
   "metadata": {},
   "outputs": [],
   "source": [
    "my_conn_options = {\n",
    "    \"dbtable\": \"public.INTL_STUDENT_ORIGIN_2013_2019\",\n",
    "    \"database\": \"dev\"\n",
    "}"
   ]
  },
  {
   "cell_type": "code",
   "execution_count": null,
   "metadata": {},
   "outputs": [],
   "source": [
    "rds_res = glueContext.write_dynamic_frame.from_jdbc_conf(\n",
    "    frame = intl_student_origin_dy_df,\n",
    "    catalog_connection = \"*********************\",\n",
    "    connection_options = my_conn_options,\n",
    "    redshift_tmp_dir = \"*************************\"\n",
    ")"
   ]
  }
 ],
 "metadata": {
  "kernelspec": {
   "display_name": "Python 3 (ipykernel)",
   "language": "python",
   "name": "python3"
  },
  "language_info": {
   "codemirror_mode": {
    "name": "ipython",
    "version": 3
   },
   "file_extension": ".py",
   "mimetype": "text/x-python",
   "name": "python",
   "nbconvert_exporter": "python",
   "pygments_lexer": "ipython3",
   "version": "3.11.4"
  }
 },
 "nbformat": 4,
 "nbformat_minor": 4
}
